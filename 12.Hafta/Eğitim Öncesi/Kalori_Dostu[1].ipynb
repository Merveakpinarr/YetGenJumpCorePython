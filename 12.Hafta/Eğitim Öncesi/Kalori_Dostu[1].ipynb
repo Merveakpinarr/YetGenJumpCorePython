{
 "cells": [
  {
   "attachments": {},
   "cell_type": "markdown",
   "metadata": {},
   "source": [
    "# ''''Hoş Geldiniz''''\n",
    "-Lütfen Yapmak istediğiniz işlemi seçiniz \n",
    "1. Ögün Hesaplama\n",
    "2. öğün takibi\n",
    "3. Yeni kayıt\n",
    "4. Kayıtlı verilere Bakma\n",
    "5. Kullanıcı bilgilerini değiştirme\n",
    "6. Hakımızda\n",
    "7. Uygulamayı kapat\n"
   ]
  },
  {
   "attachments": {},
   "cell_type": "markdown",
   "metadata": {},
   "source": [
    "- Lütfen İsminizi giriniz\n",
    "- Lütfen Kilonuzu giriniz\n",
    "- Lütfen Boyunuzu giriniz\n",
    "- Lütfen yaşınızı giriniz"
   ]
  },
  {
   "attachments": {},
   "cell_type": "markdown",
   "metadata": {},
   "source": [
    "# Class"
   ]
  },
  {
   "attachments": {},
   "cell_type": "markdown",
   "metadata": {},
   "source": [
    "### Katogoriler gösterme\n",
    "''''Hoş Geldiniz''''\n",
    "-Lütfen Yapmak istediğiniz işlemi seçiniz \n",
    "1. Ögün Hesaplama\n",
    "  1. Besin değeri sordurma\n",
    "2. öğün takibi\n",
    "3. Yeni kayıt\n",
    "4. Kayıtlı verilere Bakma\n",
    "5. Kullanıcı bilgilerini değiştirme\n",
    "6. Hakımızda\n",
    "7. Uygulamayı kapat"
   ]
  },
  {
   "attachments": {},
   "cell_type": "markdown",
   "metadata": {},
   "source": [
    "### Kullanıcı verileri girme\n",
    "    - Lütfen İsminizi giriniz\n",
    "    - Lütfen Kilonuzu giriniz\n",
    "    - Lütfen Boyunuzu giriniz\n",
    "    - Lütfen yaşınızı giriniz\n",
    "    - Kaç öğün yemek yiyeceksiniz"
   ]
  },
  {
   "attachments": {},
   "cell_type": "markdown",
   "metadata": {},
   "source": [
    "### Beden Kitle İndeksini hesapla\n",
    "    - Vucut ağırlığı / (Boy*Boy)"
   ]
  },
  {
   "attachments": {},
   "cell_type": "markdown",
   "metadata": {},
   "source": [
    "###  Bazal Metabolizma Hesaplama\n",
    "   - Erkekler için BMR = (10 × kg olarak ağırlık) + (6,25 × cm olarak boy uzunluğu)-(5 × yıl olarak yaş) + 5\n",
    "   - Kadınlar için BMR = (10 × kg olarak ağırlık) + (6,25 × cm olarak boy uzunluğu)-(5 × yıl olarak yaş) – 161"
   ]
  },
  {
   "attachments": {},
   "cell_type": "markdown",
   "metadata": {},
   "source": [
    "### Hakkımızda Kısmı"
   ]
  },
  {
   "attachments": {},
   "cell_type": "markdown",
   "metadata": {},
   "source": [
    "Besin değerleri = []\n",
    "\n",
    "Class Kalori_Dostu()\n",
    "\n",
    "    def __init__(kullanıcı verileri)\n",
    "        \n",
    "    def Öğün takibi\n",
    "    \n",
    "    def Öğün Hesaplama()\n",
    "\n",
    "    def Besin değeri sordurma()\n",
    "\n",
    "    def Bkİ Hesaplama\n",
    "\n",
    "    def Bazal Meabolizma Hesaplama\n",
    "\n",
    "    def Verileri__Kaydetme\n",
    "\n",
    "    def Hakımızda\n",
    "\n",
    "    def Uygulamayı kapat\n",
    "\n",
    "    def Kullanıcı verilerini değiştir\n",
    "\n",
    "    def Yeni kullanici\n",
    "\n",
    "    def Kayıtlı verilere bakma\n",
    "        Kayıtlı dosyalar.txd\n",
    "\n",
    "\n",
    "\n"
   ]
  },
  {
   "cell_type": "markdown",
   "metadata": {},
   "source": []
  }
 ],
 "metadata": {
  "language_info": {
   "name": "python"
  },
  "orig_nbformat": 4
 },
 "nbformat": 4,
 "nbformat_minor": 2
}
