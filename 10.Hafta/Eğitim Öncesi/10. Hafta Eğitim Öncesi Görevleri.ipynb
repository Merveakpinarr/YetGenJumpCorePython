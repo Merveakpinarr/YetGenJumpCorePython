{
 "cells": [
  {
   "attachments": {},
   "cell_type": "markdown",
   "metadata": {},
   "source": [
    "# Problem 1"
   ]
  },
  {
   "cell_type": "code",
   "execution_count": 1,
   "metadata": {},
   "outputs": [
    {
     "name": "stdout",
     "output_type": "stream",
     "text": [
      "Matris:\n",
      " [ 6  2  7  8 10]\n",
      "Matris Boyutu: (5,)\n",
      "Yeniden Boyutlandırılmış Matris:\n",
      " [[ 6  2  7  8 10]]\n",
      "Matris Boyut Sayısı: 1\n"
     ]
    }
   ],
   "source": [
    "# 1 - numpy kütüphanesini import edin\n",
    "\n",
    "import numpy as np\n",
    "\n",
    "# 2 - 0 ile 10 arasında 5 sayıdan oluşan matris üretin\n",
    "\n",
    "matris = np.random.randint(0, 11, (5,))\n",
    "print(\"Matris:\\n\", matris)\n",
    "\n",
    "\n",
    "# 3 - matris'in boyutunu öğrenin\n",
    "\n",
    "boyut = matris.shape\n",
    "print(\"Matris Boyutu:\", boyut)\n",
    "\n",
    "\n",
    "# 4 - matris'i yeniden boyutlandırın\n",
    "\n",
    "yeniden_boyutlu_matris = matris.reshape((1, 5))\n",
    "print(\"Yeniden Boyutlandırılmış Matris:\\n\", yeniden_boyutlu_matris)\n",
    "\n",
    "\n",
    "# 5 - matris'in boyut sayısını öğrenin\n",
    "\n",
    "boyut_sayisi = matris.ndim\n",
    "print(\"Matris Boyut Sayısı:\", boyut_sayisi)"
   ]
  },
  {
   "attachments": {},
   "cell_type": "markdown",
   "metadata": {},
   "source": [
    "# Problem 2"
   ]
  },
  {
   "cell_type": "code",
   "execution_count": 8,
   "metadata": {},
   "outputs": [
    {
     "name": "stdout",
     "output_type": "stream",
     "text": [
      "Matris:\n",
      " [1 3 5 7 9]\n",
      "Parçalanmış Matrisler:\n",
      "[1]\n",
      "[3]\n",
      "[5]\n",
      "[7]\n",
      "[9]\n",
      "Birleştirilmiş Matris:\n",
      " [1 3 5 7 9]\n"
     ]
    }
   ],
   "source": [
    "# 1 - 0 ile 10 arasında bulunan tek sayılardan oluşan matris üretin\n",
    "import numpy as np\n",
    "\n",
    "matris = np.arange(1, 10, 2)\n",
    "print(\"Matris:\\n\", matris)\n",
    "\n",
    "\n",
    "# 2 - Oluşturduğunuz matrisi parçalayın\n",
    "\n",
    "parcalanmis_matris = np.split(matris, 5)\n",
    "print(\"Parçalanmış Matrisler:\")\n",
    "for parca in parcalanmis_matris:\n",
    "    print(parca)\n",
    "\n",
    "\n",
    "\n",
    "# 3 - Parçalanmış matrisleri birleştirin\n",
    "\n",
    "birlesik_matris = np.concatenate(parcalanmis_matris)\n",
    "print(\"Birleştirilmiş Matris:\\n\", birlesik_matris)"
   ]
  },
  {
   "attachments": {},
   "cell_type": "markdown",
   "metadata": {},
   "source": [
    "# Problem 3"
   ]
  },
  {
   "cell_type": "code",
   "execution_count": 5,
   "metadata": {},
   "outputs": [
    {
     "name": "stdout",
     "output_type": "stream",
     "text": [
      "Matris:\n",
      " [57 21 11 11 15 27 49 19 61 15]\n",
      "Matris Özellikleri:\n",
      "Boyut: (10,)\n",
      "Eleman Sayısı: 10\n",
      "Boyut Sayısı: 1\n",
      "Veri Tipi: int32\n",
      "Minimum Değer: 11\n",
      "Maksimum Değer: 61\n",
      "Toplam: 286\n",
      "Ortalama: 28.6\n",
      "Standart Sapma: 18.478095139921756\n"
     ]
    }
   ],
   "source": [
    "# 1 - 5 ile 100 arasında ikişer ikişer atlayarak rastgele 10 sayıdan oluşan matris üretin\n",
    "import numpy as np\n",
    "\n",
    "matris = np.random.choice(np.arange(5, 101, 2), size=(10,))\n",
    "print(\"Matris:\\n\", matris)\n",
    "\n",
    "# 2 - matris'in özelliklerini inceleyin\n",
    "print(\"Matris Özellikleri:\")\n",
    "print(\"Boyut:\", matris.shape)\n",
    "print(\"Eleman Sayısı:\", matris.size)\n",
    "print(\"Boyut Sayısı:\", matris.ndim)\n",
    "print(\"Veri Tipi:\", matris.dtype)\n",
    "print(\"Minimum Değer:\", np.min(matris))\n",
    "print(\"Maksimum Değer:\", np.max(matris))\n",
    "print(\"Toplam:\", np.sum(matris))\n",
    "print(\"Ortalama:\", np.mean(matris))\n",
    "print(\"Standart Sapma:\", np.std(matris))\n",
    "\n"
   ]
  }
 ],
 "metadata": {
  "kernelspec": {
   "display_name": "Python 3",
   "language": "python",
   "name": "python3"
  },
  "language_info": {
   "codemirror_mode": {
    "name": "ipython",
    "version": 3
   },
   "file_extension": ".py",
   "mimetype": "text/x-python",
   "name": "python",
   "nbconvert_exporter": "python",
   "pygments_lexer": "ipython3",
   "version": "3.11.2"
  },
  "orig_nbformat": 4,
  "vscode": {
   "interpreter": {
    "hash": "5026d2d6e7aaaaba093def813beadff083d8733e4a511af01735cbabd156995d"
   }
  }
 },
 "nbformat": 4,
 "nbformat_minor": 2
}
